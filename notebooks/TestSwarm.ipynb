{
 "cells": [
  {
   "cell_type": "code",
   "execution_count": null,
   "metadata": {},
   "outputs": [
    {
     "ename": "ValueError",
     "evalue": "Default active agent 'Alice' not found in routes ['Logos', 'Ethos']",
     "output_type": "error",
     "traceback": [
      "\u001b[31m---------------------------------------------------------------------------\u001b[39m",
      "\u001b[31mValueError\u001b[39m                                Traceback (most recent call last)",
      "\u001b[36mCell\u001b[39m\u001b[36m \u001b[39m\u001b[32mIn[4]\u001b[39m\u001b[32m, line 44\u001b[39m\n\u001b[32m     31\u001b[39m Ethos = create_react_agent(\n\u001b[32m     32\u001b[39m     model,\n\u001b[32m     33\u001b[39m     [create_handoff_tool(agent_name=\u001b[33m\"\u001b[39m\u001b[33mLogos\u001b[39m\u001b[33m\"\u001b[39m, description=\u001b[33m\"\u001b[39m\u001b[33mTransfer to Logos, who is good at planning and analysis\u001b[39m\u001b[33m\"\u001b[39m),\n\u001b[32m   (...)\u001b[39m\u001b[32m     39\u001b[39m     store=store,\n\u001b[32m     40\u001b[39m )\n\u001b[32m     43\u001b[39m checkpointer = InMemorySaver()\n\u001b[32m---> \u001b[39m\u001b[32m44\u001b[39m workflow = \u001b[43mcreate_swarm\u001b[49m\u001b[43m(\u001b[49m\n\u001b[32m     45\u001b[39m \u001b[43m    \u001b[49m\u001b[43m[\u001b[49m\u001b[43mLogos\u001b[49m\u001b[43m,\u001b[49m\u001b[43m \u001b[49m\u001b[43mEthos\u001b[49m\u001b[43m]\u001b[49m\u001b[43m,\u001b[49m\n\u001b[32m     46\u001b[39m \u001b[43m    \u001b[49m\u001b[43mdefault_active_agent\u001b[49m\u001b[43m=\u001b[49m\u001b[33;43m\"\u001b[39;49m\u001b[33;43mAlice\u001b[39;49m\u001b[33;43m\"\u001b[39;49m\n\u001b[32m     47\u001b[39m \u001b[43m)\u001b[49m\n\u001b[32m     49\u001b[39m app = workflow.compile(checkpointer=checkpointer)\n",
      "\u001b[36mFile \u001b[39m\u001b[32m~/Projects/Lilith/lilith-agent/.venv/lib/python3.12/site-packages/langgraph_swarm/swarm.py:71\u001b[39m, in \u001b[36mcreate_swarm\u001b[39m\u001b[34m(agents, default_active_agent, state_schema)\u001b[39m\n\u001b[32m     68\u001b[39m     \u001b[38;5;28;01mraise\u001b[39;00m \u001b[38;5;167;01mValueError\u001b[39;00m(\u001b[33m\"\u001b[39m\u001b[33mMissing required key \u001b[39m\u001b[33m'\u001b[39m\u001b[33mactive_agent\u001b[39m\u001b[33m'\u001b[39m\u001b[33m in state_schema\u001b[39m\u001b[33m\"\u001b[39m)\n\u001b[32m     70\u001b[39m builder = StateGraph(state_schema)\n\u001b[32m---> \u001b[39m\u001b[32m71\u001b[39m \u001b[43madd_active_agent_router\u001b[49m\u001b[43m(\u001b[49m\n\u001b[32m     72\u001b[39m \u001b[43m    \u001b[49m\u001b[43mbuilder\u001b[49m\u001b[43m,\u001b[49m\n\u001b[32m     73\u001b[39m \u001b[43m    \u001b[49m\u001b[43mroute_to\u001b[49m\u001b[43m=\u001b[49m\u001b[43m[\u001b[49m\u001b[43magent\u001b[49m\u001b[43m.\u001b[49m\u001b[43mname\u001b[49m\u001b[43m \u001b[49m\u001b[38;5;28;43;01mfor\u001b[39;49;00m\u001b[43m \u001b[49m\u001b[43magent\u001b[49m\u001b[43m \u001b[49m\u001b[38;5;129;43;01min\u001b[39;49;00m\u001b[43m \u001b[49m\u001b[43magents\u001b[49m\u001b[43m]\u001b[49m\u001b[43m,\u001b[49m\n\u001b[32m     74\u001b[39m \u001b[43m    \u001b[49m\u001b[43mdefault_active_agent\u001b[49m\u001b[43m=\u001b[49m\u001b[43mdefault_active_agent\u001b[49m\u001b[43m,\u001b[49m\n\u001b[32m     75\u001b[39m \u001b[43m\u001b[49m\u001b[43m)\u001b[49m\n\u001b[32m     76\u001b[39m \u001b[38;5;28;01mfor\u001b[39;00m agent \u001b[38;5;129;01min\u001b[39;00m agents:\n\u001b[32m     77\u001b[39m     builder.add_node(\n\u001b[32m     78\u001b[39m         agent.name,\n\u001b[32m     79\u001b[39m         agent,\n\u001b[32m     80\u001b[39m         destinations=\u001b[38;5;28mtuple\u001b[39m(get_handoff_destinations(agent)),\n\u001b[32m     81\u001b[39m     )\n",
      "\u001b[36mFile \u001b[39m\u001b[32m~/Projects/Lilith/lilith-agent/.venv/lib/python3.12/site-packages/langgraph_swarm/swarm.py:40\u001b[39m, in \u001b[36madd_active_agent_router\u001b[39m\u001b[34m(builder, route_to, default_active_agent)\u001b[39m\n\u001b[32m     37\u001b[39m     \u001b[38;5;28;01mraise\u001b[39;00m \u001b[38;5;167;01mValueError\u001b[39;00m(\u001b[33m\"\u001b[39m\u001b[33mMissing required key \u001b[39m\u001b[33m'\u001b[39m\u001b[33mactive_agent\u001b[39m\u001b[33m'\u001b[39m\u001b[33m in in builder\u001b[39m\u001b[33m'\u001b[39m\u001b[33ms state_schema\u001b[39m\u001b[33m\"\u001b[39m)\n\u001b[32m     39\u001b[39m \u001b[38;5;28;01mif\u001b[39;00m default_active_agent \u001b[38;5;129;01mnot\u001b[39;00m \u001b[38;5;129;01min\u001b[39;00m route_to:\n\u001b[32m---> \u001b[39m\u001b[32m40\u001b[39m     \u001b[38;5;28;01mraise\u001b[39;00m \u001b[38;5;167;01mValueError\u001b[39;00m(\n\u001b[32m     41\u001b[39m         \u001b[33mf\u001b[39m\u001b[33m\"\u001b[39m\u001b[33mDefault active agent \u001b[39m\u001b[33m'\u001b[39m\u001b[38;5;132;01m{\u001b[39;00mdefault_active_agent\u001b[38;5;132;01m}\u001b[39;00m\u001b[33m'\u001b[39m\u001b[33m not found in routes \u001b[39m\u001b[38;5;132;01m{\u001b[39;00mroute_to\u001b[38;5;132;01m}\u001b[39;00m\u001b[33m\"\u001b[39m\n\u001b[32m     42\u001b[39m     )\n\u001b[32m     44\u001b[39m \u001b[38;5;28;01mdef\u001b[39;00m\u001b[38;5;250m \u001b[39m\u001b[34mroute_to_active_agent\u001b[39m(state: \u001b[38;5;28mdict\u001b[39m):\n\u001b[32m     45\u001b[39m     \u001b[38;5;28;01mreturn\u001b[39;00m state.get(\u001b[33m\"\u001b[39m\u001b[33mactive_agent\u001b[39m\u001b[33m\"\u001b[39m, default_active_agent)\n",
      "\u001b[31mValueError\u001b[39m: Default active agent 'Alice' not found in routes ['Logos', 'Ethos']"
     ]
    }
   ],
   "source": [
    "from langgraph.checkpoint.memory import InMemorySaver\n",
    "from langgraph.prebuilt import create_react_agent\n",
    "from langgraph_swarm import create_handoff_tool, create_swarm\n",
    "from langgraph.store.memory import InMemoryStore\n",
    "from langmem import create_manage_memory_tool, create_search_memory_tool, ReflectionExecutor, create_memory_store_manager\n",
    "\n",
    "\n",
    "from langchain_anthropic import ChatAnthropic\n",
    "\n",
    "model = ChatAnthropic(model='claude-3-opus-20240229')\n",
    "\n",
    "# Set up storage \n",
    "store = InMemoryStore(\n",
    "    index={\n",
    "        \"dims\": 1536,\n",
    "        \"embed\": \"openai:text-embedding-3-small\",\n",
    "    }\n",
    ") \n",
    "\n",
    "Logos = create_react_agent(\n",
    "    model,\n",
    "    [create_handoff_tool(agent_name=\"Ethos\", description=\"Transfer to Ethos, who is good writing and expressing herself\"),\n",
    "     create_manage_memory_tool(namespace=(\"memories\",)),\n",
    "     create_search_memory_tool(namespace=(\"memories\",))\n",
    "    ],\n",
    "    prompt=\"\",\n",
    "    name=\"Logos\",\n",
    "    store=store,\n",
    ")\n",
    "\n",
    "Ethos = create_react_agent(\n",
    "    model,\n",
    "    [create_handoff_tool(agent_name=\"Logos\", description=\"Transfer to Logos, who is good at planning and analysis\"),\n",
    "     create_manage_memory_tool(namespace=(\"memories\",)),\n",
    "     create_search_memory_tool(namespace=(\"memories\",))\n",
    "    ],\n",
    "    prompt=\"You are Ethos\",\n",
    "    name=\"Ethos\",\n",
    "    store=store,\n",
    ")\n",
    "\n",
    "\n",
    "checkpointer = InMemorySaver()\n",
    "workflow = create_swarm(\n",
    "    [Logos, Ethos],\n",
    "    default_active_agent=\"Logos\"\n",
    ")\n",
    "\n",
    "app = workflow.compile(checkpointer=checkpointer)"
   ]
  },
  {
   "cell_type": "code",
   "execution_count": null,
   "metadata": {},
   "outputs": [],
   "source": [
    "\n"
   ]
  },
  {
   "cell_type": "code",
   "execution_count": null,
   "metadata": {},
   "outputs": [],
   "source": [
    "\n",
    "config = {\"configurable\": {\"thread_id\": \"1\"}}\n",
    "turn_1 = app.invoke(\n",
    "    {\"messages\": [{\"role\": \"user\", \"content\": \"i'd like to speak to Bob\"}]},\n",
    "    config,\n",
    ")\n",
    "print(turn_1)\n",
    "turn_2 = app.invoke(\n",
    "    {\"messages\": [{\"role\": \"user\", \"content\": \"what's 5 + 7?\"}]},\n",
    "    config,\n",
    ")\n",
    "print(turn_2)"
   ]
  }
 ],
 "metadata": {
  "kernelspec": {
   "display_name": ".venv",
   "language": "python",
   "name": "python3"
  },
  "language_info": {
   "codemirror_mode": {
    "name": "ipython",
    "version": 3
   },
   "file_extension": ".py",
   "mimetype": "text/x-python",
   "name": "python",
   "nbconvert_exporter": "python",
   "pygments_lexer": "ipython3",
   "version": "3.12.9"
  }
 },
 "nbformat": 4,
 "nbformat_minor": 2
}
